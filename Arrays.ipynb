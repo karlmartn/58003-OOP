{
  "nbformat": 4,
  "nbformat_minor": 0,
  "metadata": {
    "colab": {
      "provenance": [],
      "authorship_tag": "ABX9TyO4HL/fV6oGyQM+8/CewC2g",
      "include_colab_link": true
    },
    "kernelspec": {
      "name": "python3",
      "display_name": "Python 3"
    },
    "language_info": {
      "name": "python"
    }
  },
  "cells": [
    {
      "cell_type": "markdown",
      "metadata": {
        "id": "view-in-github",
        "colab_type": "text"
      },
      "source": [
        "<a href=\"https://colab.research.google.com/github/karlmartn/58003-OOP/blob/main/Arrays.ipynb\" target=\"_parent\"><img src=\"https://colab.research.google.com/assets/colab-badge.svg\" alt=\"Open In Colab\"/></a>"
      ]
    },
    {
      "cell_type": "markdown",
      "source": [
        "Creating array elements"
      ],
      "metadata": {
        "id": "xsE5AX1nmL2o"
      }
    },
    {
      "cell_type": "code",
      "source": [
        "animals = [\"cat\",\"dog\",\"fish\"]\n",
        "x = animals[0]\n",
        "print(x)\n",
        "y = animals[1]\n",
        "print(y)\n",
        "z = animals[2]\n",
        "print(z)"
      ],
      "metadata": {
        "colab": {
          "base_uri": "https://localhost:8080/"
        },
        "id": "X6r-nVkSmnau",
        "outputId": "96b4ce9f-03f5-4b32-90d4-8a4a97291839"
      },
      "execution_count": 2,
      "outputs": [
        {
          "output_type": "stream",
          "name": "stdout",
          "text": [
            "cat\n",
            "dog\n",
            "fish\n"
          ]
        }
      ]
    },
    {
      "cell_type": "markdown",
      "source": [
        "Modifying Array Elements"
      ],
      "metadata": {
        "id": "eW5cWog5mRPP"
      }
    },
    {
      "cell_type": "code",
      "execution_count": 7,
      "metadata": {
        "colab": {
          "base_uri": "https://localhost:8080/"
        },
        "id": "4-9dgH5DmCtW",
        "outputId": "940999af-1cb9-4650-b8f6-bd8fc6ad4d68"
      },
      "outputs": [
        {
          "output_type": "stream",
          "name": "stdout",
          "text": [
            "monkey\n",
            "The array of animals  ['monkey', 'dog', 'fish']\n"
          ]
        }
      ],
      "source": [
        "animals[0]='monkey'\n",
        "print(animals[0])\n",
        "print(\"The array of animals \",animals)"
      ]
    },
    {
      "cell_type": "markdown",
      "source": [
        "Lenght of an array"
      ],
      "metadata": {
        "id": "lZbKRIXAnXXf"
      }
    },
    {
      "cell_type": "code",
      "source": [
        "x = len(animals)\n",
        "print(x)"
      ],
      "metadata": {
        "colab": {
          "base_uri": "https://localhost:8080/"
        },
        "id": "_ACCyi3NnMdI",
        "outputId": "bfb8aad8-82ca-4197-92fa-8e40cdae5651"
      },
      "execution_count": 8,
      "outputs": [
        {
          "output_type": "stream",
          "name": "stdout",
          "text": [
            "3\n"
          ]
        }
      ]
    },
    {
      "cell_type": "markdown",
      "source": [
        "Deletion of elements in an array"
      ],
      "metadata": {
        "id": "qGRUGussn6L4"
      }
    },
    {
      "cell_type": "code",
      "source": [
        "print(animals)\n"
      ],
      "metadata": {
        "colab": {
          "base_uri": "https://localhost:8080/"
        },
        "id": "hShmn5VMndE3",
        "outputId": "7471fc76-a40b-4518-c642-fd38d74b394b"
      },
      "execution_count": 9,
      "outputs": [
        {
          "output_type": "stream",
          "name": "stdout",
          "text": [
            "['monkey', 'dog', 'fish']\n"
          ]
        }
      ]
    },
    {
      "cell_type": "markdown",
      "source": [
        "Append Element in Array"
      ],
      "metadata": {
        "id": "9d2ux0aMpB1P"
      }
    },
    {
      "cell_type": "code",
      "source": [
        "animals = [\"monkey\",\"cat\",\"dog\",\"fish\"]\n",
        "animals.append(\"bird\")\n",
        "print(animals)"
      ],
      "metadata": {
        "colab": {
          "base_uri": "https://localhost:8080/"
        },
        "id": "odvRRUfsoAj2",
        "outputId": "daf89d0b-6c34-4eee-de20-edd0bac54571"
      },
      "execution_count": 10,
      "outputs": [
        {
          "output_type": "stream",
          "name": "stdout",
          "text": [
            "['monkey', 'cat', 'dog', 'fish', 'bird']\n"
          ]
        }
      ]
    },
    {
      "cell_type": "markdown",
      "source": [
        "insert element in an array"
      ],
      "metadata": {
        "id": "gY5pMx-LpUPe"
      }
    },
    {
      "cell_type": "code",
      "source": [
        "animals = ['monkey','cat','dog','fish']\n",
        "animals.insert(0,\"bird\")\n",
        "print(animals)\n",
        "animals.insert(2,\"lion\")\n",
        "print(animals)"
      ],
      "metadata": {
        "colab": {
          "base_uri": "https://localhost:8080/"
        },
        "id": "c0mpAVgLpSIv",
        "outputId": "4801509f-0902-4b01-e694-6b60aee19798"
      },
      "execution_count": 13,
      "outputs": [
        {
          "output_type": "stream",
          "name": "stdout",
          "text": [
            "['bird', 'monkey', 'cat', 'dog', 'fish']\n",
            "['bird', 'monkey', 'lion', 'cat', 'dog', 'fish']\n"
          ]
        }
      ]
    },
    {
      "cell_type": "markdown",
      "source": [
        "delete dog from an array elements"
      ],
      "metadata": {
        "id": "rMoNSKuPpt1u"
      }
    },
    {
      "cell_type": "code",
      "source": [
        "animals.remove('dog')\n",
        "print(animals)"
      ],
      "metadata": {
        "colab": {
          "base_uri": "https://localhost:8080/"
        },
        "id": "AWj_qCNEpqIF",
        "outputId": "21ebead1-314c-4f4f-d876-4be56b462b9f"
      },
      "execution_count": 15,
      "outputs": [
        {
          "output_type": "stream",
          "name": "stdout",
          "text": [
            "['bird', 'monkey', 'lion', 'cat', 'fish']\n"
          ]
        }
      ]
    }
  ]
}