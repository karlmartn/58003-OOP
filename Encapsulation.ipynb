{
  "nbformat": 4,
  "nbformat_minor": 0,
  "metadata": {
    "colab": {
      "provenance": [],
      "authorship_tag": "ABX9TyPKjLv6oTUZiQybKdD/SX8Q",
      "include_colab_link": true
    },
    "kernelspec": {
      "name": "python3",
      "display_name": "Python 3"
    },
    "language_info": {
      "name": "python"
    }
  },
  "cells": [
    {
      "cell_type": "markdown",
      "metadata": {
        "id": "view-in-github",
        "colab_type": "text"
      },
      "source": [
        "<a href=\"https://colab.research.google.com/github/karlmartn/58003-OOP/blob/main/Encapsulation.ipynb\" target=\"_parent\"><img src=\"https://colab.research.google.com/assets/colab-badge.svg\" alt=\"Open In Colab\"/></a>"
      ]
    },
    {
      "cell_type": "code",
      "execution_count": 28,
      "metadata": {
        "id": "beSaf83oN0P9",
        "colab": {
          "base_uri": "https://localhost:8080/"
        },
        "outputId": "566b6aef-587e-4aaf-c527-3d0576c9bd7b"
      },
      "outputs": [
        {
          "output_type": "execute_result",
          "data": {
            "text/plain": [
              "7"
            ]
          },
          "metadata": {},
          "execution_count": 28
        }
      ],
      "source": [
        "class foo:\n",
        "  def __init__(self,a,b):\n",
        "    self.__a = a\n",
        "    self.__b = b\n",
        "  def add(self):\n",
        "    return self.__a + self.__b\n",
        "  \n",
        "foo_object = foo(3,4)\n",
        "foo_object.add()"
      ]
    },
    {
      "cell_type": "code",
      "source": [
        "class Counter:\n",
        "  def __init__(self,current):\n",
        "    self.__current = current\n",
        "  def increment(self):\n",
        "    self.__current +=1\n",
        "  def value(self):\n",
        "    return self.__current\n",
        "  def reset(self):\n",
        "    self.__current = 0\n",
        "  def display_counter(self):\n",
        "    print(\"The increment is\",self.increment())\n",
        "    print(\"The value is\", self.value())\n",
        "    print(\"The reset is\", self.reset())\n",
        "\n",
        "counter = Counter(34)   \n",
        "counter.display_counter()"
      ],
      "metadata": {
        "colab": {
          "base_uri": "https://localhost:8080/"
        },
        "id": "TDC3e_5CY2Ih",
        "outputId": "6b601090-862b-4553-8a89-df9c8e0b07d1"
      },
      "execution_count": 29,
      "outputs": [
        {
          "output_type": "stream",
          "name": "stdout",
          "text": [
            "The increment is None\n",
            "The value is 35\n",
            "The reset is None\n"
          ]
        }
      ]
    },
    {
      "cell_type": "code",
      "source": [
        "class Person:\n",
        "  def __init__(self,name,birthdate):\n",
        "    self.name = name\n",
        "    self.birthdate = birthdate\n",
        "\n",
        "  def display_identity(self):\n",
        "    print(\"My name is \",self.name)\n",
        "    print(\"My birthdate is\",self.birthdate)\n",
        "\n",
        "class Teacher(Person):\n",
        "  pass\n",
        "\n",
        "class Student(Person):\n",
        "  pass\n",
        "\n",
        "teacher = Teacher(\"Maria\",\"February 20,1987\")\n",
        "student = Student(\"Karl\",\"March 15,2003\")\n",
        "\n",
        "teacher.display_identity()\n",
        "student.display_identity()\n"
      ],
      "metadata": {
        "colab": {
          "base_uri": "https://localhost:8080/"
        },
        "id": "L_l6m5m5a2PR",
        "outputId": "9a966bee-a43d-4bc2-8eb0-36229d2119cd"
      },
      "execution_count": 33,
      "outputs": [
        {
          "output_type": "stream",
          "name": "stdout",
          "text": [
            "My name is  Maria\n",
            "My birthdate is February 20,1987\n",
            "My name is  Karl\n",
            "My birthdate is March 15,2003\n"
          ]
        }
      ]
    },
    {
      "cell_type": "code",
      "source": [
        "class Shape:\n",
        "  def __init__(self,color,sides):\n",
        "    self.__color = color\n",
        "    self.__sides = sides\n",
        "\n",
        "  def show(self):\n",
        "    print(\"The sides of the shape is\", self.__sides)\n",
        "    print(\"The color of the shape is\",self.__color)\n",
        "class Circle(Shape):\n",
        "  pass\n",
        "\n",
        "class Rectangle(Shape):\n",
        "  pass\n",
        "\n",
        "class Square(Shape):\n",
        "  pass\n",
        "\n",
        "class Star(Shape):\n",
        "  pass\n",
        "\n",
        "class Triangle(Shape):\n",
        "  pass\n",
        "\n",
        "circle = Circle(\"white\",\"none\")\n",
        "rectangle = Rectangle(\"red\",4)\n",
        "square = Square(\"blue\",4)\n",
        "star = Star(\"yellow\",10)\n",
        "triangle = Triangle(\"green\",3)\n",
        "\n",
        "\n",
        "circle.show()\n",
        "rectangle.show()\n",
        "square.show()\n",
        "star.show()\n",
        "triangle.show()"
      ],
      "metadata": {
        "colab": {
          "base_uri": "https://localhost:8080/"
        },
        "id": "M_APhJHQhW-2",
        "outputId": "f73a540d-6d8c-47eb-dd42-0c22443ff22e"
      },
      "execution_count": 40,
      "outputs": [
        {
          "output_type": "stream",
          "name": "stdout",
          "text": [
            "The sides of the shape is none\n",
            "The color of the shape is white\n",
            "The sides of the shape is 4\n",
            "The color of the shape is red\n",
            "The sides of the shape is 4\n",
            "The color of the shape is blue\n",
            "The sides of the shape is 10\n",
            "The color of the shape is yellow\n",
            "The sides of the shape is 3\n",
            "The color of the shape is green\n"
          ]
        }
      ]
    },
    {
      "cell_type": "code",
      "source": [],
      "metadata": {
        "id": "DlryBNS6kd8l"
      },
      "execution_count": null,
      "outputs": []
    }
  ]
}