{
  "nbformat": 4,
  "nbformat_minor": 0,
  "metadata": {
    "colab": {
      "provenance": [],
      "authorship_tag": "ABX9TyPnGvfTmIQ4Xw4NW2gSFrL8",
      "include_colab_link": true
    },
    "kernelspec": {
      "name": "python3",
      "display_name": "Python 3"
    },
    "language_info": {
      "name": "python"
    }
  },
  "cells": [
    {
      "cell_type": "markdown",
      "metadata": {
        "id": "view-in-github",
        "colab_type": "text"
      },
      "source": [
        "<a href=\"https://colab.research.google.com/github/karlmartn/58003-OOP/blob/main/Control_Structure.ipynb\" target=\"_parent\"><img src=\"https://colab.research.google.com/assets/colab-badge.svg\" alt=\"Open In Colab\"/></a>"
      ]
    },
    {
      "cell_type": "markdown",
      "source": [
        "If and Elif Condition"
      ],
      "metadata": {
        "id": "lY7ECL7Y8EMk"
      }
    },
    {
      "cell_type": "code",
      "execution_count": null,
      "metadata": {
        "colab": {
          "base_uri": "https://localhost:8080/"
        },
        "id": "a_4Ccd-u7k09",
        "outputId": "c130aeef-175e-4302-a206-cb73ff3aed9a"
      },
      "outputs": [
        {
          "output_type": "stream",
          "name": "stdout",
          "text": [
            "5 is greater than 3\n"
          ]
        }
      ],
      "source": [
        "if 5>3:\n",
        "  print(\"5 is greater than 3\")\n",
        "elif 5<3:\n",
        "  print(\"5 is less than 3\")"
      ]
    },
    {
      "cell_type": "code",
      "source": [
        "if 3>2:\n",
        "  print(\"3 is greater than 2\")\n",
        "elif 3==2:\n",
        "  print(\"3 is less than to 2\")\n",
        "else:\n",
        "  print(\"3 is equal to 2\")"
      ],
      "metadata": {
        "id": "_ztwFjBe-mvS"
      },
      "execution_count": null,
      "outputs": []
    },
    {
      "cell_type": "markdown",
      "source": [
        "Application 1  - create a python program that will compare if the student is in Elementary, Secondary, and Tertiary"
      ],
      "metadata": {
        "id": "veqMW_iP-Xuq"
      }
    },
    {
      "cell_type": "code",
      "source": [
        "print(\"Type the grade level of student\")\n",
        "print(\"1-6 = Elementary\")\n",
        "print(\"7-12 = Secondary\")\n",
        "print(\"None of the choices above =  Tertiary\")\n",
        "x = int(input())\n",
        "\n",
        "if x == 1 or x == 2 or x == 3 or x == 4 or x == 5 or x == 6:\n",
        "  print(\"Elementary\")\n",
        "elif x==7 or x == 8 or x == 9 or x == 10 or x == 11 or x == 12:\n",
        "  print(\"Secondary\")\n",
        "else:\n",
        "  print(\"Tertiary\") "
      ],
      "metadata": {
        "colab": {
          "base_uri": "https://localhost:8080/"
        },
        "id": "bbCn0ceR8LW8",
        "outputId": "28ae30a0-900e-488d-9404-1f61f1ca1dcc"
      },
      "execution_count": null,
      "outputs": [
        {
          "output_type": "stream",
          "name": "stdout",
          "text": [
            "Type the grade level of student\n",
            "1-6 = Elementary\n",
            "7-12 = Secondary\n",
            "None of the choices above =  Tertiary\n",
            "90\n",
            "Tertiary\n"
          ]
        }
      ]
    },
    {
      "cell_type": "markdown",
      "source": [
        "Short Hand if Statement"
      ],
      "metadata": {
        "id": "aBkMmL2MCd0x"
      }
    },
    {
      "cell_type": "code",
      "source": [
        "a = 1\n",
        "b = 2\n",
        "\n",
        "if a<b:print(\"a is less than b\")"
      ],
      "metadata": {
        "id": "iKg_IlEEARip",
        "colab": {
          "base_uri": "https://localhost:8080/"
        },
        "outputId": "18173e58-0658-46de-d9c9-326d51456880"
      },
      "execution_count": 5,
      "outputs": [
        {
          "output_type": "stream",
          "name": "stdout",
          "text": [
            "a is less than b\n"
          ]
        }
      ]
    },
    {
      "cell_type": "markdown",
      "source": [
        "Shor Hand If Else"
      ],
      "metadata": {
        "id": "k0DBHd8oC4Jj"
      }
    },
    {
      "cell_type": "code",
      "source": [
        "print(\"a is less than b\") if a<b else print(\"a is greater than b\")\n"
      ],
      "metadata": {
        "colab": {
          "base_uri": "https://localhost:8080/"
        },
        "id": "93EI4xTrCpLy",
        "outputId": "76507f02-8a57-45d5-cc15-217d70ed0453"
      },
      "execution_count": 8,
      "outputs": [
        {
          "output_type": "stream",
          "name": "stdout",
          "text": [
            "a is less than b\n"
          ]
        }
      ]
    },
    {
      "cell_type": "markdown",
      "source": [
        "Nested If"
      ],
      "metadata": {
        "id": "36k9eTb0DhqA"
      }
    },
    {
      "cell_type": "code",
      "source": [
        "print(\"Input Number\")\n",
        "x = 35\n",
        "\n",
        "\n",
        "if x>10:\n",
        "  print(\"above 10\")\n",
        "  if x>20:\n",
        "    print(\"and also above 20\")\n",
        "    if x>30:\n",
        "      print(\"and also above 30\")\n",
        "      if x>40:\n",
        "        print(\"and also above 40\")\n",
        "        if x>50:\n",
        "          print(\"and also above 50\")\n",
        "        else:\n",
        "          print(\"below 50\")\n",
        "      else:\n",
        "        print(\"below 40\")\n",
        "    else:\n",
        "      print(\"below 30\")\n",
        "  else:\n",
        "    print(\"below 20\")\n",
        "else:\n",
        "  print(\"below 10\")"
      ],
      "metadata": {
        "colab": {
          "base_uri": "https://localhost:8080/"
        },
        "id": "5zmfhljSEH9J",
        "outputId": "3a94da7b-afc7-4fe1-c82a-87da989a7360"
      },
      "execution_count": 26,
      "outputs": [
        {
          "output_type": "stream",
          "name": "stdout",
          "text": [
            "Input Number\n",
            "above 10\n",
            "and also above 20\n",
            "and also above 30\n",
            "below 40\n"
          ]
        }
      ]
    },
    {
      "cell_type": "markdown",
      "source": [
        "**Example 1**"
      ],
      "metadata": {
        "id": "pNG2inU0JPS2"
      }
    },
    {
      "cell_type": "code",
      "source": [
        "print(\"Input age\")\n",
        "x = int(input())\n",
        "\n",
        "if x>18:\n",
        "  print(\"Qualified to vote\")\n",
        "else:\n",
        "  print(\"Not qualified to vote\")"
      ],
      "metadata": {
        "colab": {
          "base_uri": "https://localhost:8080/"
        },
        "id": "IciHwLA_FqeX",
        "outputId": "7e941fd9-d6b1-4746-c517-158abda72799"
      },
      "execution_count": 27,
      "outputs": [
        {
          "output_type": "stream",
          "name": "stdout",
          "text": [
            "Input age\n",
            "50\n",
            "Qualified to vote\n"
          ]
        }
      ]
    },
    {
      "cell_type": "markdown",
      "source": [
        "**Example 2**"
      ],
      "metadata": {
        "id": "1C7ZxNf1JntG"
      }
    },
    {
      "cell_type": "code",
      "source": [
        "print(\"Input number\")\n",
        "y = int(input())\n",
        "\n",
        "if y==0:\n",
        "  print(\"zero\")\n",
        "elif y>0:\n",
        "  print(\"POSITIVE\")\n",
        "else:\n",
        "  print(\"NEGATIVE\")"
      ],
      "metadata": {
        "colab": {
          "base_uri": "https://localhost:8080/"
        },
        "id": "03y4sPPfJpy-",
        "outputId": "c3d24a23-c46f-4d03-e2ae-4ce5eb63d382"
      },
      "execution_count": 30,
      "outputs": [
        {
          "output_type": "stream",
          "name": "stdout",
          "text": [
            "Input number\n",
            "0\n",
            "zero\n"
          ]
        }
      ]
    },
    {
      "cell_type": "markdown",
      "source": [
        "**Example 3**"
      ],
      "metadata": {
        "id": "hiB0bXVdKkkl"
      }
    },
    {
      "cell_type": "code",
      "source": [
        "print(\"Input Prelim, Midterm and, Finals Grades\")\n",
        "x = int(input())\n",
        "y = int(input())\n",
        "z = int(input())\n",
        "\n",
        "a = x*0.30 + y*0.30 + z*0.40 \n",
        "print(\"Average is \",a)\n",
        "if a>70:\n",
        "  print(\"Passed\")\n",
        "elif a>69:\n",
        "  print(\"Remedial\")\n",
        "elif a<64:\n",
        "  print(\"Failed\")\n",
        "else:\n",
        "  print(\"Invalid/Negative number\")\n",
        "\n",
        "\n",
        "\n"
      ],
      "metadata": {
        "colab": {
          "base_uri": "https://localhost:8080/"
        },
        "id": "2pHn49pCKUT-",
        "outputId": "2af8d1f5-0269-412a-d0e5-7ee7962c8d87"
      },
      "execution_count": 52,
      "outputs": [
        {
          "output_type": "stream",
          "name": "stdout",
          "text": [
            "Input Prelim, Midterm and, Finals Grades\n",
            "50\n",
            "50\n",
            "0\n",
            "Average is  30.0\n",
            "Failed\n"
          ]
        }
      ]
    }
  ]
}