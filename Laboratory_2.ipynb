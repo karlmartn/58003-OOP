{
  "nbformat": 4,
  "nbformat_minor": 0,
  "metadata": {
    "colab": {
      "provenance": [],
      "authorship_tag": "ABX9TyMzDx5Zxn1HzMszy3p39DjD",
      "include_colab_link": true
    },
    "kernelspec": {
      "name": "python3",
      "display_name": "Python 3"
    },
    "language_info": {
      "name": "python"
    }
  },
  "cells": [
    {
      "cell_type": "markdown",
      "metadata": {
        "id": "view-in-github",
        "colab_type": "text"
      },
      "source": [
        "<a href=\"https://colab.research.google.com/github/karlmartn/58003-OOP/blob/main/Laboratory_2.ipynb\" target=\"_parent\"><img src=\"https://colab.research.google.com/assets/colab-badge.svg\" alt=\"Open In Colab\"/></a>"
      ]
    },
    {
      "cell_type": "code",
      "source": [
        "class Circle:\n",
        "    pi = 3.14159\n",
        "    \n",
        "    def __init__(self, radius):\n",
        "        self.radius = radius\n",
        "        \n",
        "    def Perimeter(self):\n",
        "        return 2 * Circle.pi * self.radius\n",
        "    \n",
        "    def Area(self):\n",
        "        return Circle.pi * (self.radius ** 2)\n",
        "    \n",
        "    def Display(self):\n",
        "        perimeter = self.Perimeter()\n",
        "        area = self.Area()\n",
        "        print(f\"The perimeter of the circle is: {perimeter}\")\n",
        "        print(f\"The area of the circle is: {area}\")\n",
        "        \n",
        "radius = float(input(\"Enter the radius of the circle: \"))\n",
        "circle = Circle(radius)\n",
        "circle.Display()"
      ],
      "metadata": {
        "colab": {
          "base_uri": "https://localhost:8080/"
        },
        "id": "qiCvo8ESvVLu",
        "outputId": "82101163-bf58-4439-f9ce-61f71ae215ed"
      },
      "execution_count": 18,
      "outputs": [
        {
          "output_type": "stream",
          "name": "stdout",
          "text": [
            "Enter the radius of the circle: 5\n",
            "The perimeter of the circle is: 31.4159\n",
            "The area of the circle is: 78.53975\n"
          ]
        }
      ]
    },
    {
      "cell_type": "code",
      "source": [],
      "metadata": {
        "id": "6LHG3pvBwOtl"
      },
      "execution_count": null,
      "outputs": []
    }
  ]
}