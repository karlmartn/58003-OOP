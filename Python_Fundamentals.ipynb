{
  "nbformat": 4,
  "nbformat_minor": 0,
  "metadata": {
    "colab": {
      "provenance": [],
      "authorship_tag": "ABX9TyPhr+9K7POKlOgdVC2Z/LDU",
      "include_colab_link": true
    },
    "kernelspec": {
      "name": "python3",
      "display_name": "Python 3"
    },
    "language_info": {
      "name": "python"
    }
  },
  "cells": [
    {
      "cell_type": "markdown",
      "metadata": {
        "id": "view-in-github",
        "colab_type": "text"
      },
      "source": [
        "<a href=\"https://colab.research.google.com/github/karlmartn/58003-OOP/blob/main/Python_Fundamentals.ipynb\" target=\"_parent\"><img src=\"https://colab.research.google.com/assets/colab-badge.svg\" alt=\"Open In Colab\"/></a>"
      ]
    },
    {
      "cell_type": "markdown",
      "source": [
        "Casting\n"
      ],
      "metadata": {
        "id": "cA-YJvz6csoZ"
      }
    },
    {
      "cell_type": "code",
      "source": [
        "a = \"sally\"\n",
        "b = int(4)\n",
        "print(b)\n",
        "b = float(4)\n",
        "print(b)"
      ],
      "metadata": {
        "colab": {
          "base_uri": "https://localhost:8080/"
        },
        "id": "MxpvDHLHcuFw",
        "outputId": "a6816ec4-f1e3-4927-aaa3-7e23325a7df0"
      },
      "execution_count": 2,
      "outputs": [
        {
          "output_type": "stream",
          "name": "stdout",
          "text": [
            "4\n",
            "4.0\n"
          ]
        }
      ]
    },
    {
      "cell_type": "markdown",
      "source": [
        "Type()Function"
      ],
      "metadata": {
        "id": "FR8FqgUBdInZ"
      }
    },
    {
      "cell_type": "code",
      "source": [
        "a = \"Sally\"\n",
        "print(type(a))\n"
      ],
      "metadata": {
        "colab": {
          "base_uri": "https://localhost:8080/"
        },
        "id": "FPdGsyCxc2WZ",
        "outputId": "9693ce68-0552-4978-f6b5-279e9e6c2bb4"
      },
      "execution_count": 9,
      "outputs": [
        {
          "output_type": "stream",
          "name": "stdout",
          "text": [
            "<class 'str'>\n"
          ]
        }
      ]
    },
    {
      "cell_type": "markdown",
      "source": [
        "Double or Single Quotes"
      ],
      "metadata": {
        "id": "B3n9AEqld7NZ"
      }
    },
    {
      "cell_type": "code",
      "source": [
        " Y = \"Ana\"\n",
        " y = 'John'\n",
        " print(y)\n",
        " print(Y)"
      ],
      "metadata": {
        "colab": {
          "base_uri": "https://localhost:8080/"
        },
        "id": "tNngYwt6dP3Q",
        "outputId": "ce0df227-a37a-4166-d850-3fa15a7bf5ef"
      },
      "execution_count": 13,
      "outputs": [
        {
          "output_type": "stream",
          "name": "stdout",
          "text": [
            "John\n",
            "Ana\n"
          ]
        }
      ]
    },
    {
      "cell_type": "markdown",
      "source": [
        "Concentration"
      ],
      "metadata": {
        "id": "LMm8luwrfMXY"
      }
    },
    {
      "cell_type": "code",
      "source": [
        "k = \"Python is \"\n",
        "l = \"enjoying \" \n",
        "z = k+l\n",
        "print(z)"
      ],
      "metadata": {
        "colab": {
          "base_uri": "https://localhost:8080/"
        },
        "id": "iVfYwgMfeBLw",
        "outputId": "7c0ac091-9fa7-4ba2-d7e2-e4f7940eca5f"
      },
      "execution_count": 12,
      "outputs": [
        {
          "output_type": "stream",
          "name": "stdout",
          "text": [
            "Python is enjoying \n"
          ]
        }
      ]
    },
    {
      "cell_type": "code",
      "source": [],
      "metadata": {
        "id": "RJ1RzV0PfV2o"
      },
      "execution_count": null,
      "outputs": []
    }
  ]
}