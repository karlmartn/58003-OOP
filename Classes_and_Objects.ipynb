{
  "nbformat": 4,
  "nbformat_minor": 0,
  "metadata": {
    "colab": {
      "provenance": [],
      "authorship_tag": "ABX9TyN87GrapKkfBBfSNnl4APmg",
      "include_colab_link": true
    },
    "kernelspec": {
      "name": "python3",
      "display_name": "Python 3"
    },
    "language_info": {
      "name": "python"
    }
  },
  "cells": [
    {
      "cell_type": "markdown",
      "metadata": {
        "id": "view-in-github",
        "colab_type": "text"
      },
      "source": [
        "<a href=\"https://colab.research.google.com/github/karlmartn/58003-OOP/blob/main/Classes_and_Objects.ipynb\" target=\"_parent\"><img src=\"https://colab.research.google.com/assets/colab-badge.svg\" alt=\"Open In Colab\"/></a>"
      ]
    },
    {
      "cell_type": "code",
      "execution_count": null,
      "metadata": {
        "id": "B9vszzuGG71g"
      },
      "outputs": [],
      "source": [
        "# Write a Rectangle class in Python language with length and width as attributes\n",
        "# Create a Perimeter() and Area() as methods to compute for  the perimeter and area of the rectangle"
      ]
    },
    {
      "cell_type": "code",
      "source": [
        "class Rectangle:\n",
        "  def __init__(self,length,width):\n",
        "    self.length = length\n",
        "    self.width = width\n",
        "\n",
        "  def Perimeter(self):\n",
        "    return 2*(self.length + self.width)\n",
        "  \n",
        "  def Area(self):\n",
        "    return self.length * self.width\n",
        "\n",
        "  def Rectangle(self):\n",
        "    return self.length, self.width\n",
        "\n",
        "  def display(self):\n",
        "    print(\"The perimeter of the rectangle is\",self.Perimeter())\n",
        "    print(\"The area of the rectangle is\",self.Area())\n",
        "\n",
        "rectangle = Rectangle(7,5)\n",
        "\n",
        "rectangle.display()\n",
        "rectangle.Rectangle()\n"
      ],
      "metadata": {
        "colab": {
          "base_uri": "https://localhost:8080/"
        },
        "id": "Ddaid4s7Hb9o",
        "outputId": "50f421a7-9acd-4464-ba65-93d562e1eeb8"
      },
      "execution_count": 38,
      "outputs": [
        {
          "output_type": "stream",
          "name": "stdout",
          "text": [
            "The perimeter of the rectangle is 24\n",
            "The area of the rectangle is 35\n"
          ]
        },
        {
          "output_type": "execute_result",
          "data": {
            "text/plain": [
              "(7, 5)"
            ]
          },
          "metadata": {},
          "execution_count": 38
        }
      ]
    },
    {
      "cell_type": "code",
      "source": [
        "#Modify the object properties\n",
        "\n",
        "rectangle.length = 7\n",
        "rectangle.display()\n"
      ],
      "metadata": {
        "colab": {
          "base_uri": "https://localhost:8080/"
        },
        "id": "R2pTRJlqIvCs",
        "outputId": "f3957f12-8769-49fd-abe8-553b8767baa2"
      },
      "execution_count": 39,
      "outputs": [
        {
          "output_type": "stream",
          "name": "stdout",
          "text": [
            "The perimeter of the rectangle is 24\n",
            "The area of the rectangle is 35\n"
          ]
        }
      ]
    },
    {
      "cell_type": "code",
      "source": [
        "#Deletion of the object properties\n",
        "del Rectangle\n",
        "rectangle.Rectangle()"
      ],
      "metadata": {
        "colab": {
          "base_uri": "https://localhost:8080/"
        },
        "id": "DODLhzbQWst4",
        "outputId": "55d0e4b3-4e30-4ee5-ae1f-b8fd1113bfa9"
      },
      "execution_count": 40,
      "outputs": [
        {
          "output_type": "execute_result",
          "data": {
            "text/plain": [
              "(7, 5)"
            ]
          },
          "metadata": {},
          "execution_count": 40
        }
      ]
    },
    {
      "cell_type": "code",
      "source": [
        "#Write a python program to create a following:\n",
        "#Student as class name Fullname, age, and school as attributes\n",
        "#Identity as method\n",
        "#student as object name\n",
        "\n",
        "class Student:\n",
        "  def __init__(self,Fullname,age,school):\n",
        "    self.Fullname = Fullname\n",
        "    self.age = age\n",
        "    self.school = school\n",
        "    \n",
        "  def Identity(self):\n",
        "    print(\"The identity of the student is\",self.Fullname,self.age,self.school)\n",
        "  \n",
        "\n",
        "student = Student(\"Amodia Karl Martin E. \",\"19 years old \",\"Adamson Univeristy\")\n",
        "student.Identity()\n",
        "\n",
        "\n"
      ],
      "metadata": {
        "colab": {
          "base_uri": "https://localhost:8080/"
        },
        "id": "Z1HPKHoKKwea",
        "outputId": "c28211ec-51e2-452a-e15a-1e866c9f2191"
      },
      "execution_count": 41,
      "outputs": [
        {
          "output_type": "stream",
          "name": "stdout",
          "text": [
            "The identity of the student is Amodia Karl Martin E.  19 years old  Adamson Univeristy\n"
          ]
        }
      ]
    },
    {
      "cell_type": "code",
      "source": [],
      "metadata": {
        "id": "1OXfTh45Xdc4"
      },
      "execution_count": null,
      "outputs": []
    }
  ]
}