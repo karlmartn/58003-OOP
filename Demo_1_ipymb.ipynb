{
  "nbformat": 4,
  "nbformat_minor": 0,
  "metadata": {
    "colab": {
      "provenance": [],
      "authorship_tag": "ABX9TyPZZPD+Bvhd28KDZ47Nrls2",
      "include_colab_link": true
    },
    "kernelspec": {
      "name": "python3",
      "display_name": "Python 3"
    },
    "language_info": {
      "name": "python"
    }
  },
  "cells": [
    {
      "cell_type": "markdown",
      "metadata": {
        "id": "view-in-github",
        "colab_type": "text"
      },
      "source": [
        "<a href=\"https://colab.research.google.com/github/karlmartn/58003-OOP/blob/main/Demo_1_ipymb.ipynb\" target=\"_parent\"><img src=\"https://colab.research.google.com/assets/colab-badge.svg\" alt=\"Open In Colab\"/></a>"
      ]
    },
    {
      "cell_type": "markdown",
      "source": [
        "Introduction to Python Fundamentals\n"
      ],
      "metadata": {
        "id": "8qg2CyuYFc3E"
      }
    },
    {
      "cell_type": "code",
      "source": [
        "#Python Imdentation\n",
        "if 5>2:\n",
        "  print(\"Five is greater than 2\")"
      ],
      "metadata": {
        "colab": {
          "base_uri": "https://localhost:8080/"
        },
        "id": "96x7OBTBFiwF",
        "outputId": "6a7f9521-2927-4654-9df2-9e5fe99dfd95"
      },
      "execution_count": 8,
      "outputs": [
        {
          "output_type": "stream",
          "name": "stdout",
          "text": [
            "Five is greater than 2\n"
          ]
        }
      ]
    },
    {
      "cell_type": "code",
      "source": [
        "#Declaration of Variable\n",
        "x=5\n",
        "y=2\n",
        "if x>y:\n",
        "  print(\"5 is greater than 2\")\n",
        "elif x>y:\n",
        "  print(\"2 us greater than 5\")\n",
        "else:\n",
        "  print(\"5 and 2 are equal\")\n",
        "  "
      ],
      "metadata": {
        "colab": {
          "base_uri": "https://localhost:8080/"
        },
        "id": "ez_Vu7N6Gf_r",
        "outputId": "8243fb69-faff-486e-9a28-91090fd83d54"
      },
      "execution_count": 11,
      "outputs": [
        {
          "output_type": "stream",
          "name": "stdout",
          "text": [
            "5 is greater than 2\n"
          ]
        }
      ]
    },
    {
      "cell_type": "code",
      "source": [
        "x=1\n",
        "a,b=0,1\n",
        "print (a)\n",
        "print (b)\n",
        "print (x)"
      ],
      "metadata": {
        "colab": {
          "base_uri": "https://localhost:8080/"
        },
        "id": "Fq1_hqHcHYTD",
        "outputId": "a6c7d269-6d20-4e57-c51c-805e1ac9dc49"
      },
      "execution_count": 29,
      "outputs": [
        {
          "output_type": "stream",
          "name": "stdout",
          "text": [
            "0\n",
            "1\n",
            "1\n"
          ]
        }
      ]
    },
    {
      "cell_type": "code",
      "source": [
        "#Python variavle with multiple values\n",
        "a,b,c=0,1,2\n",
        "print(a)\n",
        "print(b)\n",
        "print(c)"
      ],
      "metadata": {
        "colab": {
          "base_uri": "https://localhost:8080/"
        },
        "id": "TSitkz6JLjiJ",
        "outputId": "ee3e3faa-49d2-4ca2-fcf4-cb87af286317"
      },
      "execution_count": 30,
      "outputs": [
        {
          "output_type": "stream",
          "name": "stdout",
          "text": [
            "0\n",
            "1\n",
            "2\n"
          ]
        }
      ]
    },
    {
      "cell_type": "code",
      "source": [
        "a=b=c=4.5\n",
        "print(a)\n",
        "print(b)\n",
        "print(c)"
      ],
      "metadata": {
        "colab": {
          "base_uri": "https://localhost:8080/"
        },
        "id": "EKyHBJKGLu0C",
        "outputId": "e954af09-86fd-4d9f-e643-88a56bf199db"
      },
      "execution_count": 25,
      "outputs": [
        {
          "output_type": "stream",
          "name": "stdout",
          "text": [
            "4.5\n",
            "4.5\n",
            "4.5\n"
          ]
        }
      ]
    },
    {
      "cell_type": "code",
      "source": [
        "print(type(a))"
      ],
      "metadata": {
        "colab": {
          "base_uri": "https://localhost:8080/"
        },
        "id": "MeZ0DVw5MgMg",
        "outputId": "95646d92-a81c-4856-d6b7-a0dc24ee63f9"
      },
      "execution_count": 26,
      "outputs": [
        {
          "output_type": "stream",
          "name": "stdout",
          "text": [
            "<class 'float'>\n"
          ]
        }
      ]
    },
    {
      "cell_type": "code",
      "source": [
        "#Output Variables\n",
        "x=\"enjoying\"\n",
        "print(\"python programming is \"+x)"
      ],
      "metadata": {
        "colab": {
          "base_uri": "https://localhost:8080/"
        },
        "id": "mgSCG98dMwiI",
        "outputId": "c3ed2d0a-756b-4bb8-e6f0-3691c3787673"
      },
      "execution_count": 28,
      "outputs": [
        {
          "output_type": "stream",
          "name": "stdout",
          "text": [
            "python programming is enjoying\n"
          ]
        }
      ]
    },
    {
      "cell_type": "code",
      "source": [
        "x=\"Python is\"\n",
        "y='enjoying'\n",
        "print(x+y)"
      ],
      "metadata": {
        "colab": {
          "base_uri": "https://localhost:8080/"
        },
        "id": "vz6tq8RlOX5x",
        "outputId": "2c66f8f8-72c3-414c-b0fc-2645f19aec98"
      },
      "execution_count": 31,
      "outputs": [
        {
          "output_type": "stream",
          "name": "stdout",
          "text": [
            "Python isenjoying\n"
          ]
        }
      ]
    },
    {
      "cell_type": "code",
      "source": [
        "#Arithmetic Operations\n",
        "x=5\n",
        "y=3\n",
        "print(x+y)\n",
        "sum=x+y\n",
        "sum"
      ],
      "metadata": {
        "colab": {
          "base_uri": "https://localhost:8080/"
        },
        "id": "P2vISCZLQoke",
        "outputId": "c41a5dee-e535-4e62-f57b-3309d9c32f84"
      },
      "execution_count": 33,
      "outputs": [
        {
          "output_type": "stream",
          "name": "stdout",
          "text": [
            "8\n"
          ]
        },
        {
          "output_type": "execute_result",
          "data": {
            "text/plain": [
              "8"
            ]
          },
          "metadata": {},
          "execution_count": 33
        }
      ]
    },
    {
      "cell_type": "code",
      "source": [
        "#Assignment Operators\n",
        "a,b,c= 0,-1,6\n",
        "c%=3\n",
        "c"
      ],
      "metadata": {
        "colab": {
          "base_uri": "https://localhost:8080/"
        },
        "id": "Usf-mFGnQ0iW",
        "outputId": "68108fff-c7db-4acd-e2b1-f6d6f0e8de7b"
      },
      "execution_count": 39,
      "outputs": [
        {
          "output_type": "execute_result",
          "data": {
            "text/plain": [
              "0"
            ]
          },
          "metadata": {},
          "execution_count": 39
        }
      ]
    },
    {
      "cell_type": "code",
      "source": [
        "#Logical and Comparison Oparators\n",
        "a,b,c=0,-1,6\n",
        "a>b\n",
        "c>b"
      ],
      "metadata": {
        "colab": {
          "base_uri": "https://localhost:8080/"
        },
        "id": "HdbW3zpeRC2n",
        "outputId": "58bc96b6-1b3b-4b0e-f33a-84b6aa2d2a21"
      },
      "execution_count": 37,
      "outputs": [
        {
          "output_type": "execute_result",
          "data": {
            "text/plain": [
              "True"
            ]
          },
          "metadata": {},
          "execution_count": 37
        }
      ]
    },
    {
      "cell_type": "code",
      "source": [
        "#Identity Operators\n",
        "a,b,c=0,-1,5\n",
        "a is c"
      ],
      "metadata": {
        "colab": {
          "base_uri": "https://localhost:8080/"
        },
        "id": "eDHaFSjoRbJu",
        "outputId": "5cb871d8-864a-4139-867c-0fd612a391e9"
      },
      "execution_count": 38,
      "outputs": [
        {
          "output_type": "execute_result",
          "data": {
            "text/plain": [
              "False"
            ]
          },
          "metadata": {},
          "execution_count": 38
        }
      ]
    }
  ]
}