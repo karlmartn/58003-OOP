{
  "nbformat": 4,
  "nbformat_minor": 0,
  "metadata": {
    "colab": {
      "provenance": [],
      "authorship_tag": "ABX9TyOpsHyRCKeifaezlp6ybPLG",
      "include_colab_link": true
    },
    "kernelspec": {
      "name": "python3",
      "display_name": "Python 3"
    },
    "language_info": {
      "name": "python"
    }
  },
  "cells": [
    {
      "cell_type": "markdown",
      "metadata": {
        "id": "view-in-github",
        "colab_type": "text"
      },
      "source": [
        "<a href=\"https://colab.research.google.com/github/karlmartn/58003-OOP/blob/main/Demo_1_ipymb.ipynb\" target=\"_parent\"><img src=\"https://colab.research.google.com/assets/colab-badge.svg\" alt=\"Open In Colab\"/></a>"
      ]
    },
    {
      "cell_type": "markdown",
      "source": [
        "Introduction to Python Fundamentals\n"
      ],
      "metadata": {
        "id": "8qg2CyuYFc3E"
      }
    },
    {
      "cell_type": "code",
      "source": [
        "#Python Imdentation\n",
        "if 5>2:\n",
        "  print(\"Five is greater than 2\")"
      ],
      "metadata": {
        "colab": {
          "base_uri": "https://localhost:8080/"
        },
        "id": "96x7OBTBFiwF",
        "outputId": "6a7f9521-2927-4654-9df2-9e5fe99dfd95"
      },
      "execution_count": 8,
      "outputs": [
        {
          "output_type": "stream",
          "name": "stdout",
          "text": [
            "Five is greater than 2\n"
          ]
        }
      ]
    },
    {
      "cell_type": "code",
      "source": [
        "#Declaration of Variable\n",
        "x=5\n",
        "y=2\n",
        "if x>y:\n",
        "  print(\"5 is greater than 2\")\n",
        "elif x>y:\n",
        "  print(\"2 us greater than 5\")\n",
        "else:\n",
        "  print(\"5 and 2 are equal\")\n",
        "  "
      ],
      "metadata": {
        "colab": {
          "base_uri": "https://localhost:8080/"
        },
        "id": "ez_Vu7N6Gf_r",
        "outputId": "8243fb69-faff-486e-9a28-91090fd83d54"
      },
      "execution_count": 11,
      "outputs": [
        {
          "output_type": "stream",
          "name": "stdout",
          "text": [
            "5 is greater than 2\n"
          ]
        }
      ]
    },
    {
      "cell_type": "code",
      "source": [
        "x=1\n",
        "a,b=0,1\n",
        "print (a)\n",
        "print (b)\n",
        "print (x)"
      ],
      "metadata": {
        "colab": {
          "base_uri": "https://localhost:8080/"
        },
        "id": "Fq1_hqHcHYTD",
        "outputId": "6f1d5822-ae7a-4774-dbdd-c2379a823bed"
      },
      "execution_count": 17,
      "outputs": [
        {
          "output_type": "stream",
          "name": "stdout",
          "text": [
            "0\n",
            "1\n",
            "1\n"
          ]
        }
      ]
    },
    {
      "cell_type": "code",
      "source": [
        "#Python variavle with multiple values\n",
        "a,b,c=0,1,2\n",
        "print(a)\n",
        "print(b)\n",
        "print(c)"
      ],
      "metadata": {
        "colab": {
          "base_uri": "https://localhost:8080/"
        },
        "id": "TSitkz6JLjiJ",
        "outputId": "e6b3a901-3d7c-4243-8e2f-54712c8ff6df"
      },
      "execution_count": 19,
      "outputs": [
        {
          "output_type": "stream",
          "name": "stdout",
          "text": [
            "0\n",
            "1\n",
            "2\n"
          ]
        }
      ]
    },
    {
      "cell_type": "code",
      "source": [
        "a=b=c=4.5\n",
        "print(a)\n",
        "print(b)\n",
        "print(c)"
      ],
      "metadata": {
        "colab": {
          "base_uri": "https://localhost:8080/"
        },
        "id": "EKyHBJKGLu0C",
        "outputId": "e954af09-86fd-4d9f-e643-88a56bf199db"
      },
      "execution_count": 25,
      "outputs": [
        {
          "output_type": "stream",
          "name": "stdout",
          "text": [
            "4.5\n",
            "4.5\n",
            "4.5\n"
          ]
        }
      ]
    },
    {
      "cell_type": "code",
      "source": [
        "print(type(a))"
      ],
      "metadata": {
        "colab": {
          "base_uri": "https://localhost:8080/"
        },
        "id": "MeZ0DVw5MgMg",
        "outputId": "95646d92-a81c-4856-d6b7-a0dc24ee63f9"
      },
      "execution_count": 26,
      "outputs": [
        {
          "output_type": "stream",
          "name": "stdout",
          "text": [
            "<class 'float'>\n"
          ]
        }
      ]
    },
    {
      "cell_type": "code",
      "source": [
        "#Output Variables\n",
        "x=\"enjoying\"\n",
        "print(\"python programming is \"+x)"
      ],
      "metadata": {
        "colab": {
          "base_uri": "https://localhost:8080/"
        },
        "id": "mgSCG98dMwiI",
        "outputId": "c3ed2d0a-756b-4bb8-e6f0-3691c3787673"
      },
      "execution_count": 28,
      "outputs": [
        {
          "output_type": "stream",
          "name": "stdout",
          "text": [
            "python programming is enjoying\n"
          ]
        }
      ]
    },
    {
      "cell_type": "code",
      "source": [],
      "metadata": {
        "id": "vz6tq8RlOX5x"
      },
      "execution_count": null,
      "outputs": []
    }
  ]
}